{
 "cells": [
  {
   "cell_type": "code",
   "execution_count": null,
   "metadata": {},
   "outputs": [],
   "source": [
    "# CFA to IFA\n",
    "import torch\n",
    "import torch.nn as nn\n",
    "from collections import OrderedDict\n",
    "\n",
    "CFA_model_path = '' # CFA model path\n",
    "a = torch.load(CFA_model_path)\n",
    "\n",
    "tmp = []\n",
    "for k in a['model']:\n",
    "    # print(k)\n",
    "    if k.split('.')[0] == 'uise_neck' and k.split('.')[1] == 'deconv' and k.split('.')[2][:4] == 'conv':\n",
    "        tmp.append(k)\n",
    "        print(k)\n",
    "\n",
    "weights = torch.cat( (a['model'][tmp[0]], a['model'][tmp[1]], a['model'][tmp[2]], a['model'][tmp[3]]), dim = 1 )\n",
    "bias = a['model'].pop('uise_neck.deconv.bias')\n",
    "\n",
    "for k in tmp:\n",
    "    print(a['model'][k].shape)\n",
    "    a['model'].pop(k)\n",
    "\n",
    "a['model']['uise_neck.deconv.fuse_conv.bias'] = bias.reshape(-1)\n",
    "a['model']['uise_neck.deconv.fuse_conv.weight'] = weights\n",
    "\n",
    "IFA_model_path = '' # IFA model path\n",
    "torch.save(a, IFA_model_path)"
   ]
  },
  {
   "cell_type": "code",
   "execution_count": null,
   "metadata": {},
   "outputs": [],
   "source": [
    "# IFA to CFA\n",
    "import torch\n",
    "import torch.nn as nn\n",
    "from collections import OrderedDict\n",
    "\n",
    "IFA_model_path = ''\n",
    "a = torch.load(IFA_model_path)\n",
    "\n",
    "weight = a['model'].pop('uise_neck.deconv.fuse_conv.weight')\n",
    "bias = a['model'].pop('uise_neck.deconv.fuse_conv.bias')\n",
    "\n",
    "out_channels=[1024, 512, 256, 128]\n",
    "a['model']['uise_neck.deconv.conv_a5.weight'] = weight[:, : out_channels[0] ]\n",
    "a['model']['uise_neck.deconv.conv_a4.weight'] = weight[:, sum(out_channels[:1]) : sum(out_channels[:2])]\n",
    "a['model']['uise_neck.deconv.conv_a3.weight'] = weight[:, sum(out_channels[:2]) : sum(out_channels[:3])]\n",
    "a['model']['uise_neck.deconv.conv_a2.weight'] = weight[:, sum(out_channels[:3]) : ]\n",
    "a['model']['uise_neck.deconv.bias'] = bias.reshape(1, -1, 1, 1)\n",
    "\n",
    "CFA_model_path = '' # CFA model path\n",
    "torch.save(a, CFA_model_path)"
   ]
  }
 ],
 "metadata": {
  "kernelspec": {
   "display_name": "YOSO",
   "language": "python",
   "name": "python3"
  },
  "language_info": {
   "codemirror_mode": {
    "name": "ipython",
    "version": 3
   },
   "file_extension": ".py",
   "mimetype": "text/x-python",
   "name": "python",
   "nbconvert_exporter": "python",
   "pygments_lexer": "ipython3",
   "version": "3.8.13"
  }
 },
 "nbformat": 4,
 "nbformat_minor": 2
}
